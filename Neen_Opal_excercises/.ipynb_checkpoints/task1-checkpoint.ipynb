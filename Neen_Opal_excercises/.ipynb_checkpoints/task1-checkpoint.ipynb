{
 "cells": [
  {
   "cell_type": "code",
   "execution_count": 94,
   "id": "cd48c9a7-9838-4ff7-afa0-b4477653807e",
   "metadata": {},
   "outputs": [],
   "source": [
    "#Approach: \n",
    "# step-1: first we will load both data_file in two different data frame using pandas library\n",
    "# step-2: we will create a column in both data_frame having value of (Order ID + Product ID)\n",
    "# step-3: we will make union of both data frame\n",
    "# step-4: Now we can find ans of given questions on the basis of step-3 data frame"
   ]
  },
  {
   "cell_type": "code",
   "execution_count": 81,
   "id": "86e536a8-e1a2-453c-b6ea-c40295f61adc",
   "metadata": {},
   "outputs": [],
   "source": [
    "import pandas as pd"
   ]
  },
  {
   "cell_type": "code",
   "execution_count": 82,
   "id": "3656a01a-c6b3-4643-aa7a-ad816ae3af20",
   "metadata": {},
   "outputs": [],
   "source": [
    "# reading the Data1 from the csv \n",
    "data1 = pd.read_csv('data1.csv')\n",
    "\n",
    "#Creating Unique column ID \n",
    "data1['Data1_Unique_ID'] = data1['Order ID']+data1['Product ID']"
   ]
  },
  {
   "cell_type": "code",
   "execution_count": 83,
   "id": "b4a01752-6064-42d7-88ff-56e4c29458cd",
   "metadata": {},
   "outputs": [
    {
     "data": {
      "text/html": [
       "<div>\n",
       "<style scoped>\n",
       "    .dataframe tbody tr th:only-of-type {\n",
       "        vertical-align: middle;\n",
       "    }\n",
       "\n",
       "    .dataframe tbody tr th {\n",
       "        vertical-align: top;\n",
       "    }\n",
       "\n",
       "    .dataframe thead th {\n",
       "        text-align: right;\n",
       "    }\n",
       "</style>\n",
       "<table border=\"1\" class=\"dataframe\">\n",
       "  <thead>\n",
       "    <tr style=\"text-align: right;\">\n",
       "      <th></th>\n",
       "      <th>Order ID</th>\n",
       "      <th>Product ID</th>\n",
       "      <th>Qty</th>\n",
       "      <th>Data1_Unique_ID</th>\n",
       "    </tr>\n",
       "  </thead>\n",
       "  <tbody>\n",
       "    <tr>\n",
       "      <th>0</th>\n",
       "      <td>CA-2014-100006</td>\n",
       "      <td>TEC-PH-10002075</td>\n",
       "      <td>3</td>\n",
       "      <td>CA-2014-100006TEC-PH-10002075</td>\n",
       "    </tr>\n",
       "    <tr>\n",
       "      <th>1</th>\n",
       "      <td>CA-2014-100090</td>\n",
       "      <td>FUR-TA-10003715</td>\n",
       "      <td>3</td>\n",
       "      <td>CA-2014-100090FUR-TA-10003715</td>\n",
       "    </tr>\n",
       "    <tr>\n",
       "      <th>2</th>\n",
       "      <td>CA-2014-100090</td>\n",
       "      <td>OFF-BI-10001597</td>\n",
       "      <td>6</td>\n",
       "      <td>CA-2014-100090OFF-BI-10001597</td>\n",
       "    </tr>\n",
       "    <tr>\n",
       "      <th>3</th>\n",
       "      <td>CA-2014-100293</td>\n",
       "      <td>OFF-PA-10000176</td>\n",
       "      <td>6</td>\n",
       "      <td>CA-2014-100293OFF-PA-10000176</td>\n",
       "    </tr>\n",
       "    <tr>\n",
       "      <th>4</th>\n",
       "      <td>CA-2014-100328</td>\n",
       "      <td>OFF-BI-10000343</td>\n",
       "      <td>1</td>\n",
       "      <td>CA-2014-100328OFF-BI-10000343</td>\n",
       "    </tr>\n",
       "  </tbody>\n",
       "</table>\n",
       "</div>"
      ],
      "text/plain": [
       "         Order ID       Product ID  Qty                Data1_Unique_ID\n",
       "0  CA-2014-100006  TEC-PH-10002075    3  CA-2014-100006TEC-PH-10002075\n",
       "1  CA-2014-100090  FUR-TA-10003715    3  CA-2014-100090FUR-TA-10003715\n",
       "2  CA-2014-100090  OFF-BI-10001597    6  CA-2014-100090OFF-BI-10001597\n",
       "3  CA-2014-100293  OFF-PA-10000176    6  CA-2014-100293OFF-PA-10000176\n",
       "4  CA-2014-100328  OFF-BI-10000343    1  CA-2014-100328OFF-BI-10000343"
      ]
     },
     "execution_count": 83,
     "metadata": {},
     "output_type": "execute_result"
    }
   ],
   "source": [
    "data1.head(5)"
   ]
  },
  {
   "cell_type": "code",
   "execution_count": 84,
   "id": "57c5faa0-c0fa-4b55-99e8-096ea28a2898",
   "metadata": {},
   "outputs": [],
   "source": [
    "# reading the Data2 from the csv \n",
    "data2 = pd.read_csv('data2.csv')\n",
    "\n",
    "#Creating Unique column ID \"\n",
    "data2['Data2_Unique_ID'] = data2['Order ID']+data2['Product ID']"
   ]
  },
  {
   "cell_type": "code",
   "execution_count": 85,
   "id": "fcb0780a-335e-48b4-9758-820fcc3c7beb",
   "metadata": {},
   "outputs": [
    {
     "data": {
      "text/html": [
       "<div>\n",
       "<style scoped>\n",
       "    .dataframe tbody tr th:only-of-type {\n",
       "        vertical-align: middle;\n",
       "    }\n",
       "\n",
       "    .dataframe tbody tr th {\n",
       "        vertical-align: top;\n",
       "    }\n",
       "\n",
       "    .dataframe thead th {\n",
       "        text-align: right;\n",
       "    }\n",
       "</style>\n",
       "<table border=\"1\" class=\"dataframe\">\n",
       "  <thead>\n",
       "    <tr style=\"text-align: right;\">\n",
       "      <th></th>\n",
       "      <th>Order ID</th>\n",
       "      <th>Product ID</th>\n",
       "      <th>Qty</th>\n",
       "      <th>Data2_Unique_ID</th>\n",
       "    </tr>\n",
       "  </thead>\n",
       "  <tbody>\n",
       "    <tr>\n",
       "      <th>0</th>\n",
       "      <td>CA-2014-100090</td>\n",
       "      <td>FUR-TA-10003715</td>\n",
       "      <td>3</td>\n",
       "      <td>CA-2014-100090FUR-TA-10003715</td>\n",
       "    </tr>\n",
       "    <tr>\n",
       "      <th>1</th>\n",
       "      <td>CA-2014-100090</td>\n",
       "      <td>OFF-BI-10001597</td>\n",
       "      <td>6</td>\n",
       "      <td>CA-2014-100090OFF-BI-10001597</td>\n",
       "    </tr>\n",
       "    <tr>\n",
       "      <th>2</th>\n",
       "      <td>CA-2014-100293</td>\n",
       "      <td>OFF-PA-10000176</td>\n",
       "      <td>6</td>\n",
       "      <td>CA-2014-100293OFF-PA-10000176</td>\n",
       "    </tr>\n",
       "    <tr>\n",
       "      <th>3</th>\n",
       "      <td>CA-2014-100328</td>\n",
       "      <td>OFF-BI-10000343</td>\n",
       "      <td>1</td>\n",
       "      <td>CA-2014-100328OFF-BI-10000343</td>\n",
       "    </tr>\n",
       "    <tr>\n",
       "      <th>4</th>\n",
       "      <td>CA-2014-100363</td>\n",
       "      <td>OFF-FA-10000611</td>\n",
       "      <td>2</td>\n",
       "      <td>CA-2014-100363OFF-FA-10000611</td>\n",
       "    </tr>\n",
       "  </tbody>\n",
       "</table>\n",
       "</div>"
      ],
      "text/plain": [
       "         Order ID       Product ID  Qty                Data2_Unique_ID\n",
       "0  CA-2014-100090  FUR-TA-10003715    3  CA-2014-100090FUR-TA-10003715\n",
       "1  CA-2014-100090  OFF-BI-10001597    6  CA-2014-100090OFF-BI-10001597\n",
       "2  CA-2014-100293  OFF-PA-10000176    6  CA-2014-100293OFF-PA-10000176\n",
       "3  CA-2014-100328  OFF-BI-10000343    1  CA-2014-100328OFF-BI-10000343\n",
       "4  CA-2014-100363  OFF-FA-10000611    2  CA-2014-100363OFF-FA-10000611"
      ]
     },
     "execution_count": 85,
     "metadata": {},
     "output_type": "execute_result"
    }
   ],
   "source": [
    "data2.head(5)"
   ]
  },
  {
   "cell_type": "code",
   "execution_count": 86,
   "id": "5efe96b7-f53a-4182-8296-89523c025b0c",
   "metadata": {},
   "outputs": [],
   "source": [
    "final_data = data1.merge(data2, how='outer', left_on=['Data1_Unique_ID'], right_on=['Data2_Unique_ID'])"
   ]
  },
  {
   "cell_type": "code",
   "execution_count": 87,
   "id": "f7e1b58b-53a2-4f2e-be75-f5a9d2b937e8",
   "metadata": {},
   "outputs": [
    {
     "data": {
      "text/html": [
       "<div>\n",
       "<style scoped>\n",
       "    .dataframe tbody tr th:only-of-type {\n",
       "        vertical-align: middle;\n",
       "    }\n",
       "\n",
       "    .dataframe tbody tr th {\n",
       "        vertical-align: top;\n",
       "    }\n",
       "\n",
       "    .dataframe thead th {\n",
       "        text-align: right;\n",
       "    }\n",
       "</style>\n",
       "<table border=\"1\" class=\"dataframe\">\n",
       "  <thead>\n",
       "    <tr style=\"text-align: right;\">\n",
       "      <th></th>\n",
       "      <th>Order ID_x</th>\n",
       "      <th>Product ID_x</th>\n",
       "      <th>Qty_x</th>\n",
       "      <th>Data1_Unique_ID</th>\n",
       "      <th>Order ID_y</th>\n",
       "      <th>Product ID_y</th>\n",
       "      <th>Qty_y</th>\n",
       "      <th>Data2_Unique_ID</th>\n",
       "    </tr>\n",
       "  </thead>\n",
       "  <tbody>\n",
       "    <tr>\n",
       "      <th>0</th>\n",
       "      <td>CA-2014-100006</td>\n",
       "      <td>TEC-PH-10002075</td>\n",
       "      <td>3.0</td>\n",
       "      <td>CA-2014-100006TEC-PH-10002075</td>\n",
       "      <td>NaN</td>\n",
       "      <td>NaN</td>\n",
       "      <td>NaN</td>\n",
       "      <td>NaN</td>\n",
       "    </tr>\n",
       "    <tr>\n",
       "      <th>1</th>\n",
       "      <td>CA-2014-100090</td>\n",
       "      <td>FUR-TA-10003715</td>\n",
       "      <td>3.0</td>\n",
       "      <td>CA-2014-100090FUR-TA-10003715</td>\n",
       "      <td>CA-2014-100090</td>\n",
       "      <td>FUR-TA-10003715</td>\n",
       "      <td>3.0</td>\n",
       "      <td>CA-2014-100090FUR-TA-10003715</td>\n",
       "    </tr>\n",
       "    <tr>\n",
       "      <th>2</th>\n",
       "      <td>CA-2014-100090</td>\n",
       "      <td>OFF-BI-10001597</td>\n",
       "      <td>6.0</td>\n",
       "      <td>CA-2014-100090OFF-BI-10001597</td>\n",
       "      <td>CA-2014-100090</td>\n",
       "      <td>OFF-BI-10001597</td>\n",
       "      <td>6.0</td>\n",
       "      <td>CA-2014-100090OFF-BI-10001597</td>\n",
       "    </tr>\n",
       "    <tr>\n",
       "      <th>3</th>\n",
       "      <td>CA-2014-100293</td>\n",
       "      <td>OFF-PA-10000176</td>\n",
       "      <td>6.0</td>\n",
       "      <td>CA-2014-100293OFF-PA-10000176</td>\n",
       "      <td>CA-2014-100293</td>\n",
       "      <td>OFF-PA-10000176</td>\n",
       "      <td>6.0</td>\n",
       "      <td>CA-2014-100293OFF-PA-10000176</td>\n",
       "    </tr>\n",
       "    <tr>\n",
       "      <th>4</th>\n",
       "      <td>CA-2014-100328</td>\n",
       "      <td>OFF-BI-10000343</td>\n",
       "      <td>1.0</td>\n",
       "      <td>CA-2014-100328OFF-BI-10000343</td>\n",
       "      <td>CA-2014-100328</td>\n",
       "      <td>OFF-BI-10000343</td>\n",
       "      <td>1.0</td>\n",
       "      <td>CA-2014-100328OFF-BI-10000343</td>\n",
       "    </tr>\n",
       "  </tbody>\n",
       "</table>\n",
       "</div>"
      ],
      "text/plain": [
       "       Order ID_x     Product ID_x  Qty_x                Data1_Unique_ID  \\\n",
       "0  CA-2014-100006  TEC-PH-10002075    3.0  CA-2014-100006TEC-PH-10002075   \n",
       "1  CA-2014-100090  FUR-TA-10003715    3.0  CA-2014-100090FUR-TA-10003715   \n",
       "2  CA-2014-100090  OFF-BI-10001597    6.0  CA-2014-100090OFF-BI-10001597   \n",
       "3  CA-2014-100293  OFF-PA-10000176    6.0  CA-2014-100293OFF-PA-10000176   \n",
       "4  CA-2014-100328  OFF-BI-10000343    1.0  CA-2014-100328OFF-BI-10000343   \n",
       "\n",
       "       Order ID_y     Product ID_y  Qty_y                Data2_Unique_ID  \n",
       "0             NaN              NaN    NaN                            NaN  \n",
       "1  CA-2014-100090  FUR-TA-10003715    3.0  CA-2014-100090FUR-TA-10003715  \n",
       "2  CA-2014-100090  OFF-BI-10001597    6.0  CA-2014-100090OFF-BI-10001597  \n",
       "3  CA-2014-100293  OFF-PA-10000176    6.0  CA-2014-100293OFF-PA-10000176  \n",
       "4  CA-2014-100328  OFF-BI-10000343    1.0  CA-2014-100328OFF-BI-10000343  "
      ]
     },
     "execution_count": 87,
     "metadata": {},
     "output_type": "execute_result"
    }
   ],
   "source": [
    "final_data.head(5)"
   ]
  },
  {
   "cell_type": "code",
   "execution_count": 88,
   "id": "47f0a4e2-dd1b-480a-85ea-03ac0b976db7",
   "metadata": {},
   "outputs": [
    {
     "data": {
      "text/plain": [
       "507"
      ]
     },
     "execution_count": 88,
     "metadata": {},
     "output_type": "execute_result"
    }
   ],
   "source": [
    "#Q1: No. Of Records (Order ID + Product ID combination) present in data1 but missing in data2 \n",
    "\n",
    "#solution\n",
    "final_data['Data2_Unique_ID'].isna().sum()"
   ]
  },
  {
   "cell_type": "code",
   "execution_count": 89,
   "id": "a8cd5a7f-2a47-449b-8eaa-4833e3dfcb38",
   "metadata": {},
   "outputs": [
    {
     "data": {
      "text/plain": [
       "508"
      ]
     },
     "execution_count": 89,
     "metadata": {},
     "output_type": "execute_result"
    }
   ],
   "source": [
    "#records present in data2 but missing in data1\n",
    "present_in_data2_missing_in_data1 = final_data[final_data['Data1_Unique_ID'].isna()]\n",
    "\n",
    "#Q2: No. Of Records (Order ID + Product ID combination) missing in data1 but present in data2\n",
    "\n",
    "#solution\n",
    "present_in_data2_missing_in_data1.shape[0]"
   ]
  },
  {
   "cell_type": "code",
   "execution_count": 90,
   "id": "f32870b9-2edd-4bd9-a101-b3042864b619",
   "metadata": {},
   "outputs": [
    {
     "data": {
      "text/plain": [
       "Qty_y    1956.0\n",
       "dtype: float64"
      ]
     },
     "execution_count": 90,
     "metadata": {},
     "output_type": "execute_result"
    }
   ],
   "source": [
    "#Q3: Sum of the total Qty of Records missing in data1 but present in data2\n",
    "\n",
    "#solution\n",
    "present_in_data2_missing_in_data1[['Qty_y']].sum()"
   ]
  },
  {
   "cell_type": "code",
   "execution_count": 91,
   "id": "fe62e2fe-cea5-44cc-9a72-cc715a921ab8",
   "metadata": {},
   "outputs": [
    {
     "data": {
      "text/plain": [
       "9986"
      ]
     },
     "execution_count": 91,
     "metadata": {},
     "output_type": "execute_result"
    }
   ],
   "source": [
    "#Q4: Total number of unique records (Order ID + Product ID combination) present in the combined dataset of data1 and data2\n",
    "\n",
    "#solution\n",
    "final_data['Data2_Unique_ID'].shape[0]"
   ]
  }
 ],
 "metadata": {
  "kernelspec": {
   "display_name": "Python 3 (ipykernel)",
   "language": "python",
   "name": "python3"
  },
  "language_info": {
   "codemirror_mode": {
    "name": "ipython",
    "version": 3
   },
   "file_extension": ".py",
   "mimetype": "text/x-python",
   "name": "python",
   "nbconvert_exporter": "python",
   "pygments_lexer": "ipython3",
   "version": "3.8.10"
  }
 },
 "nbformat": 4,
 "nbformat_minor": 5
}
