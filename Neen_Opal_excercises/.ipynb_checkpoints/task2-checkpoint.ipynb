{
 "cells": [
  {
   "cell_type": "code",
   "execution_count": 2,
   "id": "c605f43b-f0d9-4af9-affa-90ba36fa2471",
   "metadata": {},
   "outputs": [],
   "source": [
    "import pandas as pd"
   ]
  },
  {
   "cell_type": "code",
   "execution_count": 25,
   "id": "fe5c1ff4-c825-4553-96aa-39a3f08b5bc8",
   "metadata": {},
   "outputs": [],
   "source": [
    "# read csv file \n",
    "df=pd.read_csv('used_bikes.csv')"
   ]
  },
  {
   "cell_type": "code",
   "execution_count": 4,
   "id": "b48ca98c-4947-4954-a199-30e661589b5a",
   "metadata": {},
   "outputs": [
    {
     "name": "stdout",
     "output_type": "stream",
     "text": [
      "<class 'pandas.core.frame.DataFrame'>\n",
      "RangeIndex: 149 entries, 0 to 148\n",
      "Data columns (total 8 columns):\n",
      " #   Column      Non-Null Count  Dtype  \n",
      "---  ------      --------------  -----  \n",
      " 0   bike_name   149 non-null    object \n",
      " 1   price       149 non-null    float64\n",
      " 2   city        149 non-null    object \n",
      " 3   kms_driven  149 non-null    float64\n",
      " 4   owner       149 non-null    object \n",
      " 5   age         149 non-null    float64\n",
      " 6   power       149 non-null    float64\n",
      " 7   brand       149 non-null    object \n",
      "dtypes: float64(4), object(4)\n",
      "memory usage: 9.4+ KB\n"
     ]
    }
   ],
   "source": [
    "# memory usage before change of data type\n",
    "df.info()"
   ]
  },
  {
   "cell_type": "code",
   "execution_count": 5,
   "id": "96bfa79a-09cc-40da-a306-e03d999b6471",
   "metadata": {},
   "outputs": [],
   "source": [
    "#change data type of columns\n",
    "data_type_changed_df=df.astype({'bike_name': 'string', 'price': 'int', 'city':'string', 'kms_driven':'int', 'owner':'string', 'age':'int', 'power':'int', 'brand':'string'})"
   ]
  },
  {
   "cell_type": "code",
   "execution_count": 6,
   "id": "10c75342-4972-4bea-bdcd-32685a03df7d",
   "metadata": {},
   "outputs": [
    {
     "name": "stdout",
     "output_type": "stream",
     "text": [
      "<class 'pandas.core.frame.DataFrame'>\n",
      "RangeIndex: 149 entries, 0 to 148\n",
      "Data columns (total 8 columns):\n",
      " #   Column      Non-Null Count  Dtype \n",
      "---  ------      --------------  ----- \n",
      " 0   bike_name   149 non-null    string\n",
      " 1   price       149 non-null    int64 \n",
      " 2   city        149 non-null    string\n",
      " 3   kms_driven  149 non-null    int64 \n",
      " 4   owner       149 non-null    string\n",
      " 5   age         149 non-null    int64 \n",
      " 6   power       149 non-null    int64 \n",
      " 7   brand       149 non-null    string\n",
      "dtypes: int64(4), string(4)\n",
      "memory usage: 9.4 KB\n"
     ]
    }
   ],
   "source": [
    "#memory usage after change of data types\n",
    "data_type_changed_df.info()"
   ]
  },
  {
   "cell_type": "code",
   "execution_count": 23,
   "id": "6c17c7e7-f9b9-4554-9ebc-6cdf30d0ccff",
   "metadata": {
    "scrolled": true
   },
   "outputs": [
    {
     "name": "stdout",
     "output_type": "stream",
     "text": [
      "Database connected\n"
     ]
    }
   ],
   "source": [
    "# connection with mysql \n",
    "import mysql.connector as msql\n",
    "from mysql.connector import Error\n",
    "try:\n",
    "    # making connection\n",
    "    conn = msql.connect(host='172.104.58.116', user='pythoni1_pythonist',  \n",
    "                        password='pythonist@12345')\n",
    "    if conn.is_connected():\n",
    "        cursor = conn.cursor()\n",
    "        print(\"Database connected\")\n",
    "except Error as e:\n",
    "    print(\"Error while connecting to Database\", e)\n"
   ]
  },
  {
   "cell_type": "code",
   "execution_count": 14,
   "id": "d3a2593d-2a27-4265-ac7d-78ee7608786e",
   "metadata": {},
   "outputs": [
    {
     "name": "stdout",
     "output_type": "stream",
     "text": [
      "Table is created....\n"
     ]
    }
   ],
   "source": [
    "try:\n",
    "    #select datatabase\n",
    "    cursor.execute(\"use pythoni1_pythonist_crm\")\n",
    "    # drop if table exist\n",
    "    cursor.execute(\"DROP TABLE IF EXISTS used_bikes\")\n",
    "    #create table named used_bikes\n",
    "    cursor.execute(\"CREATE TABLE used_bikes(id INT not null primary key AUTO_INCREMENT, bike_name varchar(100),price FLOAT,city varchar(50), kms_driven FLOAT,owner varchar(100),age FLOAT,power Float,brand varchar(50))\")\n",
    "    print(\"Table is created....\")\n",
    "except Error as e:\n",
    " print(\"Database Error \", e)"
   ]
  },
  {
   "cell_type": "code",
   "execution_count": 22,
   "id": "7cc1ed9b-d3ee-4275-9169-170b29fd19b6",
   "metadata": {},
   "outputs": [
    {
     "name": "stdout",
     "output_type": "stream",
     "text": [
      "Record inserted\n",
      "Record inserted\n",
      "Record inserted\n",
      "Record inserted\n",
      "Record inserted\n",
      "Record inserted\n",
      "Record inserted\n",
      "Record inserted\n",
      "Record inserted\n",
      "Record inserted\n",
      "Record inserted\n",
      "Record inserted\n",
      "Record inserted\n",
      "Record inserted\n",
      "Record inserted\n",
      "Record inserted\n",
      "Record inserted\n",
      "Record inserted\n",
      "Record inserted\n",
      "Record inserted\n",
      "Record inserted\n",
      "Record inserted\n",
      "Record inserted\n",
      "Record inserted\n",
      "Record inserted\n",
      "Record inserted\n",
      "Record inserted\n",
      "Record inserted\n",
      "Record inserted\n",
      "Record inserted\n",
      "Record inserted\n",
      "Record inserted\n",
      "Record inserted\n",
      "Record inserted\n",
      "Record inserted\n",
      "Record inserted\n",
      "Record inserted\n",
      "Record inserted\n",
      "Record inserted\n",
      "Record inserted\n",
      "Record inserted\n",
      "Record inserted\n",
      "Record inserted\n",
      "Record inserted\n",
      "Record inserted\n",
      "Record inserted\n",
      "Record inserted\n",
      "Record inserted\n",
      "Record inserted\n",
      "Record inserted\n",
      "Record inserted\n",
      "Record inserted\n",
      "Record inserted\n",
      "Record inserted\n",
      "Record inserted\n",
      "Record inserted\n",
      "Record inserted\n",
      "Record inserted\n",
      "Record inserted\n",
      "Record inserted\n",
      "Record inserted\n",
      "Record inserted\n",
      "Record inserted\n",
      "Record inserted\n",
      "Record inserted\n",
      "Record inserted\n",
      "Record inserted\n",
      "Record inserted\n",
      "Record inserted\n",
      "Record inserted\n",
      "Record inserted\n",
      "Record inserted\n",
      "Record inserted\n",
      "Record inserted\n",
      "Record inserted\n",
      "Record inserted\n",
      "Record inserted\n",
      "Record inserted\n",
      "Record inserted\n",
      "Record inserted\n",
      "Record inserted\n",
      "Record inserted\n",
      "Record inserted\n",
      "Record inserted\n",
      "Record inserted\n",
      "Record inserted\n",
      "Record inserted\n",
      "Record inserted\n",
      "Record inserted\n",
      "Record inserted\n",
      "Record inserted\n",
      "Record inserted\n",
      "Record inserted\n",
      "Record inserted\n",
      "Record inserted\n",
      "Record inserted\n",
      "Record inserted\n",
      "Record inserted\n",
      "Record inserted\n",
      "Record inserted\n",
      "Record inserted\n",
      "Record inserted\n",
      "Record inserted\n",
      "Record inserted\n",
      "Record inserted\n",
      "Record inserted\n",
      "Record inserted\n",
      "Record inserted\n",
      "Record inserted\n",
      "Record inserted\n",
      "Record inserted\n",
      "Record inserted\n",
      "Record inserted\n",
      "Record inserted\n",
      "Record inserted\n",
      "Record inserted\n",
      "Record inserted\n",
      "Record inserted\n",
      "Record inserted\n",
      "Record inserted\n",
      "Record inserted\n",
      "Record inserted\n",
      "Record inserted\n",
      "Record inserted\n",
      "Record inserted\n",
      "Record inserted\n",
      "Record inserted\n",
      "Record inserted\n",
      "Record inserted\n",
      "Record inserted\n",
      "Record inserted\n",
      "Record inserted\n",
      "Record inserted\n",
      "Record inserted\n",
      "Record inserted\n",
      "Record inserted\n",
      "Record inserted\n",
      "Record inserted\n",
      "Record inserted\n",
      "Record inserted\n",
      "Record inserted\n",
      "Record inserted\n",
      "Record inserted\n",
      "Record inserted\n",
      "Record inserted\n",
      "Record inserted\n",
      "Record inserted\n",
      "Record inserted\n",
      "Record inserted\n"
     ]
    }
   ],
   "source": [
    "try:\n",
    "    # drop index before insertion of data\n",
    "    cursor.execute(\"Drop INDEX search_index ON used_bikes\")\n",
    "    #insert records from data frame\n",
    "    for i,row in df.iterrows():\n",
    "        # insert sql query\n",
    "        sql = \"INSERT INTO used_bikes(bike_name,price,city,kms_driven,owner,age,power,brand) VALUES(%s,%s,%s,%s,%s,%s,%s,%s)\"\n",
    "        cursor.execute(sql, tuple(row))\n",
    "        print(\"Record inserted\")\n",
    "                    \n",
    "        conn.commit()\n",
    "except Error as e:\n",
    " print(\"Database Error \", e)          "
   ]
  },
  {
   "cell_type": "code",
   "execution_count": null,
   "id": "f4640076-c84e-46ac-b91d-a7804a2770ca",
   "metadata": {},
   "outputs": [],
   "source": [
    "# create index \n",
    "cursor.execute(\"CREATE INDEX search_index ON used_bikes(bike_name,price,city,kms_driven,owner,age,power,brand)\")"
   ]
  }
 ],
 "metadata": {
  "kernelspec": {
   "display_name": "Python 3 (ipykernel)",
   "language": "python",
   "name": "python3"
  },
  "language_info": {
   "codemirror_mode": {
    "name": "ipython",
    "version": 3
   },
   "file_extension": ".py",
   "mimetype": "text/x-python",
   "name": "python",
   "nbconvert_exporter": "python",
   "pygments_lexer": "ipython3",
   "version": "3.8.10"
  }
 },
 "nbformat": 4,
 "nbformat_minor": 5
}
